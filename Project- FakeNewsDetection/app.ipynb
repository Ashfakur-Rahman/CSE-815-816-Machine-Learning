{
 "cells": [
  {
   "cell_type": "code",
   "execution_count": null,
   "id": "9c58de5c",
   "metadata": {},
   "outputs": [
    {
     "name": "stderr",
     "output_type": "stream",
     "text": [
      "C:\\Users\\Ashfakur Rahman\\anaconda3\\lib\\site-packages\\scipy\\__init__.py:146: UserWarning: A NumPy version >=1.16.5 and <1.23.0 is required for this version of SciPy (detected version 1.26.4\n",
      "  warnings.warn(f\"A NumPy version >={np_minversion} and <{np_maxversion}\"\n",
      " * Running on http://localhost:5000/ (Press CTRL+C to quit)\n",
      "127.0.0.1 - - [28/Feb/2024 22:24:05] \"GET / HTTP/1.1\" 200 -\n",
      "127.0.0.1 - - [28/Feb/2024 22:24:06] \"GET /static/fakenewsbg.jpg HTTP/1.1\" 304 -\n",
      "127.0.0.1 - - [28/Feb/2024 22:24:07] \"GET /favicon.ico HTTP/1.1\" 404 -\n",
      "127.0.0.1 - - [28/Feb/2024 22:28:19] \"POST /predict HTTP/1.1\" 200 -\n",
      "127.0.0.1 - - [28/Feb/2024 22:28:19] \"GET /static/resultbg.jpg HTTP/1.1\" 304 -\n",
      "127.0.0.1 - - [28/Feb/2024 22:28:47] \"POST /predict HTTP/1.1\" 200 -\n",
      "127.0.0.1 - - [28/Feb/2024 22:29:01] \"POST /predict HTTP/1.1\" 200 -\n",
      "127.0.0.1 - - [28/Feb/2024 22:29:20] \"POST /predict HTTP/1.1\" 200 -\n",
      "127.0.0.1 - - [28/Feb/2024 22:29:59] \"POST /predict HTTP/1.1\" 200 -\n",
      "127.0.0.1 - - [28/Feb/2024 22:30:13] \"POST /predict HTTP/1.1\" 200 -\n",
      "127.0.0.1 - - [28/Feb/2024 22:30:30] \"POST /predict HTTP/1.1\" 200 -\n",
      "127.0.0.1 - - [28/Feb/2024 22:30:42] \"POST /predict HTTP/1.1\" 200 -\n",
      "127.0.0.1 - - [28/Feb/2024 22:31:05] \"POST /predict HTTP/1.1\" 200 -\n"
     ]
    }
   ],
   "source": [
    "from flask import Flask, request, render_template\n",
    "from joblib import load\n",
    "from nltk.corpus import stopwords\n",
    "from nltk.tokenize import word_tokenize\n",
    "from nltk.stem import PorterStemmer, WordNetLemmatizer\n",
    "import string\n",
    "stop_words = set(stopwords.words('english'))\n",
    "stemmer = PorterStemmer()\n",
    "lemmatizer = WordNetLemmatizer()\n",
    "clf = load('model_nb.joblib')\n",
    "vectorizer = load('vectorizer.joblib')\n",
    "def preprocess_text(text):\n",
    "    # Lowercase the text\n",
    "    text = text.lower()\n",
    "    # Remove punctuation and digits\n",
    "    text = text.translate(str.maketrans('', '', string.punctuation + string.digits))\n",
    "    # Tokenize the text\n",
    "    words = word_tokenize(text)\n",
    "    # Remove stop words\n",
    "    words = [word for word in words if word not in stop_words]\n",
    "    # Stem or lemmatize the words\n",
    "    words = [stemmer.stem(word) for word in words]\n",
    "    # Join the words back into a string\n",
    "    text = ' '.join(words)\n",
    "    return text\n",
    "app = Flask(__name__)\n",
    "@app.route('/')\n",
    "def home():\n",
    "    return render_template('home.html')\n",
    "@app.route('/predict', methods=['POST'])\n",
    "def predict():\n",
    "    text = request.form['text']\n",
    "    preprocessed_text = preprocess_text(text)\n",
    "    X = vectorizer.transform([preprocessed_text])\n",
    "    y_pred = clf.predict(X)\n",
    "    if y_pred[0] == 1:\n",
    "        result = 'real'\n",
    "    else:\n",
    "        result = 'fake'\n",
    "    return render_template('result.html', result=result, text=text)\n",
    "# Run the Flask app in the Jupyter notebook\n",
    "if __name__ == '__main__':\n",
    "    from werkzeug.serving import run_simple\n",
    "    run_simple('localhost', 5000, app, use_reloader=False)\n"
   ]
  },
  {
   "cell_type": "code",
   "execution_count": null,
   "id": "50127c60",
   "metadata": {},
   "outputs": [],
   "source": []
  }
 ],
 "metadata": {
  "kernelspec": {
   "display_name": "Python 3 (ipykernel)",
   "language": "python",
   "name": "python3"
  },
  "language_info": {
   "codemirror_mode": {
    "name": "ipython",
    "version": 3
   },
   "file_extension": ".py",
   "mimetype": "text/x-python",
   "name": "python",
   "nbconvert_exporter": "python",
   "pygments_lexer": "ipython3",
   "version": "3.9.12"
  }
 },
 "nbformat": 4,
 "nbformat_minor": 5
}
