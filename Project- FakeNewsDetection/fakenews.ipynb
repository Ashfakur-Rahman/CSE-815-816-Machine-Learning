{
 "cells": [
  {
   "cell_type": "code",
   "execution_count": 1,
   "id": "d1db080f",
   "metadata": {},
   "outputs": [],
   "source": [
    "import pandas as pd\n",
    "import matplotlib.pyplot as plt\n",
    "from collections import Counter\n",
    "import nltk\n",
    "from nltk.corpus import stopwords\n",
    "from nltk.tokenize import word_tokenize\n",
    "from nltk.stem import PorterStemmer, WordNetLemmatizer\n",
    "import string\n",
    "from sklearn.feature_extraction.text import CountVectorizer\n",
    "from sklearn.model_selection import train_test_split\n",
    "from sklearn.naive_bayes import MultinomialNB\n",
    "from sklearn.svm import SVC\n",
    "from sklearn.metrics import accuracy_score, precision_score, recall_score, f1_score\n",
    "from joblib import dump\n",
    "from flask import Flask, request, render_template\n",
    "from joblib import load\n",
    "import scipy.sparse as sp\n",
    "import numpy as np"
   ]
  },
  {
   "cell_type": "code",
   "execution_count": 2,
   "id": "3a0a14b3",
   "metadata": {},
   "outputs": [],
   "source": [
    "# Importing CSV files\n",
    "fake_news = pd.read_csv('Fake.csv')\n",
    "real_news = pd.read_csv('True.csv').sample(n=len(fake_news), replace=True, random_state=42)"
   ]
  },
  {
   "cell_type": "code",
   "execution_count": 3,
   "id": "31282461",
   "metadata": {},
   "outputs": [
    {
     "data": {
      "image/png": "[encoded data removed]",
      "text/plain": [
       "<Figure size 432x288 with 1 Axes>"
      ]
     },
     "metadata": {
      "needs_background": "light"
     },
     "output_type": "display_data"
    }
   ],
   "source": [
    "# Plotting article lengths\n",
    "fake_lengths = fake_news['text'].apply(len)\n",
    "real_lengths = real_news['text'].apply(len)\n",
    "plt.hist(fake_lengths, bins=50, alpha=0.5, label='Fake')\n",
    "plt.hist(real_lengths, bins=50, alpha=0.5, label='Real')\n",
    "plt.title('Article Lengths')\n",
    "plt.xlabel('Length')\n",
    "plt.ylabel('Count')\n",
    "plt.legend()\n",
    "plt.show()"
   ]
  },
  {
   "cell_type": "code",
   "execution_count": 4,
   "id": "e6c74497",
   "metadata": {},
   "outputs": [
    {
     "name": "stdout",
     "output_type": "stream",
     "text": [
      "Fake News: [('trump', 74240), ('said', 31149), ('people', 26012), ('president', 25770), ('would', 23461), ('one', 22994), ('clinton', 18085), ('obama', 17920), ('like', 17660), ('donald', 17235)]\n",
      "Real News: [('said', 108291), ('trump', 59266), ('would', 34666), ('reuters', 31136), ('president', 28775), ('state', 21415), ('government', 20378), ('new', 18244), ('house', 18130), ('states', 18114)]\n"
     ]
    }
   ],
   "source": [
    "# Function to get most common words\n",
    "def get_most_common_words(texts, num_words=10):\n",
    "    all_words = []\n",
    "    for text in texts:\n",
    "        all_words.extend(nltk.word_tokenize(text.lower()))\n",
    "    stop_words = set(nltk.corpus.stopwords.words('english'))\n",
    "    words = [word for word in all_words if word.isalpha() and word not in stop_words]\n",
    "    word_counts = Counter(words)\n",
    "    return word_counts.most_common(num_words)\n",
    "\n",
    "# Get most common words in real and fake news\n",
    "fake_words = get_most_common_words(fake_news['text'])\n",
    "real_words = get_most_common_words(real_news['text'])\n",
    "print('Fake News:', fake_words)\n",
    "print('Real News:', real_words)"
   ]
  },
  {
   "cell_type": "code",
   "execution_count": 5,
   "id": "99c49e98",
   "metadata": {},
   "outputs": [
    {
     "name": "stderr",
     "output_type": "stream",
     "text": [
      "[nltk_data] Downloading package wordnet to C:\\Users\\Ashfakur\n",
      "[nltk_data]     Rahman\\AppData\\Roaming\\nltk_data...\n",
      "[nltk_data]   Package wordnet is already up-to-date!\n"
     ]
    }
   ],
   "source": [
    "# Preprocessing text\n",
    "nltk.download('wordnet')\n",
    "stop_words = set(stopwords.words('english'))\n",
    "stemmer = PorterStemmer()\n",
    "lemmatizer = WordNetLemmatizer()\n",
    "\n",
    "def preprocess_text(text):\n",
    "    # Lowercase the text\n",
    "    text = text.lower()\n",
    "    # Remove punctuation and digits\n",
    "    text = text.translate(str.maketrans('', '', string.punctuation + string.digits))\n",
    "    # Tokenize the text\n",
    "    words = word_tokenize(text)\n",
    "    # Remove stop words\n",
    "    words = [word for word in words if word not in stop_words]\n",
    "    # Stem or lemmatize the words\n",
    "    words = [stemmer.stem(word) for word in words]\n",
    "    # Join the words back into a string\n",
    "    text = ' '.join(words)\n",
    "    return text\n",
    "\n",
    "# Applying preprocessing to fake and real news\n",
    "fake_news['text'] = fake_news['text'].apply(preprocess_text)\n",
    "real_news['text'] = real_news['text'].apply(preprocess_text)"
   ]
  },
  {
   "cell_type": "code",
   "execution_count": 6,
   "id": "eeedabad",
   "metadata": {},
   "outputs": [],
   "source": [
    "# Creating feature matrix and labels\n",
    "vectorizer = CountVectorizer()\n",
    "X_fake = vectorizer.fit_transform(fake_news['text'])\n",
    "X_real = vectorizer.transform(real_news['text'])\n",
    "X = sp.vstack([X_fake, X_real])\n",
    "y = np.concatenate([np.zeros(X_fake.shape[0]), np.ones(X_real.shape[0])])"
   ]
  },
  {
   "cell_type": "code",
   "execution_count": 7,
   "id": "b845d8dc",
   "metadata": {},
   "outputs": [
    {
     "name": "stdout",
     "output_type": "stream",
     "text": [
      "Training and evaluating Multinomial Naive Bayes model...\n"
     ]
    }
   ],
   "source": [
    "# Splitting data into training and testing sets (maintaining class distribution)\n",
    "X_train, X_test, y_train, y_test = train_test_split(X, y, test_size=0.2, random_state=42, stratify=y)\n",
    "\n",
    "# Training and evaluating a Multinomial Naive Bayes model\n",
    "print(\"Training and evaluating Multinomial Naive Bayes model...\")\n",
    "nb = MultinomialNB()\n",
    "nb.fit(X_train, y_train)\n",
    "y_pred_nb = nb.predict(X_test)"
   ]
  },
  {
   "cell_type": "code",
   "execution_count": 8,
   "id": "7e5dd927",
   "metadata": {},
   "outputs": [
    {
     "name": "stdout",
     "output_type": "stream",
     "text": [
      "Accuracy: 0.9350580219312253\n",
      "Precision: 0.9132281553398058\n",
      "Recall: 0.9614565587734242\n",
      "F1 Score: 0.9367219917012447\n",
      "\n"
     ]
    }
   ],
   "source": [
    "# Print evaluation metrics for Multinomial Naive Bayes for Training\n",
    "print('Accuracy:', accuracy_score(y_test, y_pred_nb))\n",
    "print('Precision:', precision_score(y_test, y_pred_nb))\n",
    "print('Recall:', recall_score(y_test, y_pred_nb))\n",
    "print('F1 Score:', f1_score(y_test, y_pred_nb))\n",
    "print()"
   ]
  },
  {
   "cell_type": "code",
   "execution_count": 9,
   "id": "417f5495",
   "metadata": {},
   "outputs": [
    {
     "name": "stdout",
     "output_type": "stream",
     "text": [
      "Training and evaluating Support Vector Machine model...\n"
     ]
    }
   ],
   "source": [
    "# Training and evaluating a Support Vector Machine model\n",
    "print(\"Training and evaluating Support Vector Machine model...\")\n",
    "svm = SVC()\n",
    "svm.fit(X_train, y_train)\n",
    "y_pred_svm = svm.predict(X_test)"
   ]
  },
  {
   "cell_type": "code",
   "execution_count": 10,
   "id": "9f30195f",
   "metadata": {},
   "outputs": [
    {
     "name": "stdout",
     "output_type": "stream",
     "text": [
      "Accuracy: 0.996167358671351\n",
      "Precision: 0.9955338153977031\n",
      "Recall: 0.9968057921635435\n",
      "F1 Score: 0.996169397744201\n"
     ]
    }
   ],
   "source": [
    "# Print evaluation metrics for Support Vector Machine for testing\n",
    "print('Accuracy:', accuracy_score(y_test, y_pred_svm))\n",
    "print('Precision:', precision_score(y_test, y_pred_svm))\n",
    "print('Recall:', recall_score(y_test, y_pred_svm))\n",
    "print('F1 Score:', f1_score(y_test, y_pred_svm))"
   ]
  },
  {
   "cell_type": "code",
   "execution_count": 11,
   "id": "0fcfa9da",
   "metadata": {},
   "outputs": [
    {
     "data": {
      "text/plain": [
       "['vectorizer.joblib']"
      ]
     },
     "execution_count": 11,
     "metadata": {},
     "output_type": "execute_result"
    }
   ],
   "source": [
    "# Dumping the model and vectorizer to files\n",
    "dump(nb, 'model_nb.joblib')\n",
    "dump(svm, 'model_svm.joblib')\n",
    "dump(vectorizer, 'vectorizer.joblib')"
   ]
  }
 ],
 "metadata": {
  "kernelspec": {
   "display_name": "Python 3 (ipykernel)",
   "language": "python",
   "name": "python3"
  },
  "language_info": {
   "codemirror_mode": {
    "name": "ipython",
    "version": 3
   },
   "file_extension": ".py",
   "mimetype": "text/x-python",
   "name": "python",
   "nbconvert_exporter": "python",
   "pygments_lexer": "ipython3",
   "version": "3.9.12"
  }
 },
 "nbformat": 4,
 "nbformat_minor": 5
}
